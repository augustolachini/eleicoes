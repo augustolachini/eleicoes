{
 "cells": [
  {
   "cell_type": "code",
   "execution_count": null,
   "metadata": {},
   "outputs": [],
   "source": [
    "## First Example\n",
    "\n",
    "# -*- coding: utf-8 -*-\n",
    "import dash\n",
    "import dash_core_components as dcc\n",
    "import dash_html_components as html\n",
    "\n",
    "app = dash.Dash()\n",
    "\n",
    "app.layout = html.Div(\n",
    "    html.Div([\n",
    "        html.H1(children='Hello World'),\n",
    "\n",
    "        html.Div(children='''\n",
    "            Dash: A web application framework for Python.\n",
    "        '''),\n",
    "\n",
    "        dcc.Graph(\n",
    "            id='example-graph',\n",
    "            figure={\n",
    "                'data': [\n",
    "                    {'x': [1, 2, 3], 'y': [4, 1, 2], 'type': 'bar', 'name': 'SF'},\n",
    "                    {'x': [1, 2, 3], 'y': [2, 4, 5], 'type': 'bar', 'name': u'Montréal'},\n",
    "                ],\n",
    "                'layout': {\n",
    "                    'title': 'Dash Data Visualization'\n",
    "                }\n",
    "            }\n",
    "        ),\n",
    "\n",
    "    ])\n",
    ")\n",
    "\n",
    "if __name__ == '__main__':\n",
    "    app.run_server(debug=True)"
   ]
  }
 ],
 "metadata": {
  "kernelspec": {
   "display_name": "Python 3",
   "language": "python",
   "name": "python3"
  },
  "language_info": {
   "codemirror_mode": {
    "name": "ipython",
    "version": 3
   },
   "file_extension": ".py",
   "mimetype": "text/x-python",
   "name": "python",
   "nbconvert_exporter": "python",
   "pygments_lexer": "ipython3",
   "version": "3.8.3"
  }
 },
 "nbformat": 4,
 "nbformat_minor": 4
}
